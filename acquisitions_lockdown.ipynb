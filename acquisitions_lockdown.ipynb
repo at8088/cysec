{
 "cells": [
  {
   "cell_type": "markdown",
   "metadata": {},
   "source": [
    "# Acquisitions (1 hour)\n",
    "1. Communicate with the chip\n",
    "2. Get a trace on the scope / Power analysis on AES\n",
    "3. Get a set of (traces/plaintexts) to be attacked later"
   ]
  },
  {
   "cell_type": "code",
   "execution_count": null,
   "metadata": {},
   "outputs": [],
   "source": [
    "import os\n",
    "import numpy as np\n",
    "import matplotlib.pyplot as plt \n",
    "import time\n",
    "from Crypto.Cipher import AES\n",
    "#purely optional (for best visualisations of long loops)\n",
    "from tqdm.notebook import tnrange\n"
   ]
  },
  {
   "cell_type": "code",
   "execution_count": null,
   "metadata": {},
   "outputs": [],
   "source": [
    "# connection to the chip / set up chip specific parameters\n",
    "SCOPETYPE='OPENADC'\n",
    "PLATFORM='CWLITEARM'\n",
    "CRYPTO_TARGET='TINYAES128C' \n",
    "CW_PATH = \"../../chipwhisperer/jupyter/courses/sca101/\"\n",
    "setup = CW_PATH + \"../../Setup_Scripts/Setup_Generic.ipynb\"\n",
    "%run $setup"
   ]
  },
  {
   "cell_type": "code",
   "execution_count": null,
   "metadata": {},
   "outputs": [],
   "source": [
    "# program target with software AES\n",
    "cw.program_target(scope, prog, \"./simpleserial-aes-{}.hex\".format(PLATFORM))"
   ]
  },
  {
   "cell_type": "markdown",
   "metadata": {},
   "source": [
    "## Chip communication\n",
    "### Goal:\n",
    "1. send a message/key to be ciphered to the chip (protocol 'k' and 'p') and check it is indeed an AES cipher with the Python function\n",
    "2. follow the protocol 'G' described in the text and cipher a plaintext with the unknown/secret key.\n",
    "3. write the function `send_challenge(chip, plaintext)` which returns the encrypted plaintext. \n"
   ]
  },
  {
   "cell_type": "markdown",
   "metadata": {},
   "source": [
    "### Basic functions"
   ]
  },
  {
   "cell_type": "code",
   "execution_count": null,
   "metadata": {},
   "outputs": [],
   "source": [
    "## sending a message to the chip \n",
    "## message is a byte array \n",
    "text = os.urandom(16)\n",
    "target.simpleserial_write('g', text)\n",
    "## receiving n octets from the device  \n",
    "response = target.simpleserial_read('r', 16)\n",
    "print(\"Response: \" + response.hex())\n",
    "## get random bytearray of length n\n",
    "n = 16\n",
    "rnd = os.urandom(n)\n",
    "print(str(n) + \" random bytes: \" + rnd.hex())"
   ]
  },
  {
   "cell_type": "markdown",
   "metadata": {},
   "source": [
    "### Cipher random plaintext with random key / chek results"
   ]
  },
  {
   "cell_type": "code",
   "execution_count": null,
   "metadata": {},
   "outputs": [],
   "source": [
    "#set random key + plaintext\n",
    "key = ...\n",
    "plaintext = ...\n",
    "\n",
    "# cipher with the chip\n",
    "...\n",
    "cipher_chip = ...\n",
    "\n",
    "cipher_pyth = AES.new(key, AES.MODE_ECB).encrypt(plaintext)\n",
    "print(\"Python:\", cipher_pyth.hex())\n",
    "\n",
    "print(\"Chip:  \" , cipher_chip.hex())\n",
    "assert(cipher_pyth.hex() ==  cipher_chip.hex() )"
   ]
  },
  {
   "cell_type": "markdown",
   "metadata": {},
   "source": [
    "### Cipher with the secret key `g` + send_challenge function "
   ]
  },
  {
   "cell_type": "code",
   "execution_count": null,
   "metadata": {
    "scrolled": false
   },
   "outputs": [],
   "source": [
    "secret_key = \"00\" * 16 # to be determined\n",
    "cipher_pyth = AES.new(secret_key, AES.MODE_ECB).encrypt(plaintext)\n",
    "\n",
    "\n",
    "cipher_chip = ...\n",
    "\n",
    "print(\"Python:\", cipher_pyth.hex())\n",
    "print(\"Chip:  \" , send_challenge(target, plaintext).hex())"
   ]
  },
  {
   "cell_type": "code",
   "execution_count": null,
   "metadata": {},
   "outputs": [],
   "source": [
    "def send_challenge(target, plaintext):\n",
    "    ...\n",
    "    return cipher"
   ]
  },
  {
   "cell_type": "markdown",
   "metadata": {},
   "source": [
    "## Scope \n",
    "#### Goal:\n",
    "- discover and play with the scope, trigger, run stop, time/amplitude scale.\n",
    "- Find the best position (~ more signal) to perform the attack \n",
    "- identify AES rounds => plot/save the corresponding curve\n",
    "- identify parts of the first AES round => plot/save the corresponding trace\n",
    "- record 2500 couples (trace, message) to be attacked\n",
    "- (subsidiary) record 10000 characterization data (trace, message, key)"
   ]
  },
  {
   "cell_type": "code",
   "execution_count": null,
   "metadata": {
    "scrolled": false
   },
   "outputs": [],
   "source": [
    "# print scope parameters\n",
    "scope"
   ]
  },
  {
   "cell_type": "code",
   "execution_count": null,
   "metadata": {},
   "outputs": [],
   "source": [
    "print(\"Number of samples to be recorded: \" + str(scope.adc.samples))\n",
    "print(\"Decimation, for longer traces: \" + str(scope.adc.decimate))"
   ]
  },
  {
   "cell_type": "code",
   "execution_count": null,
   "metadata": {},
   "outputs": [],
   "source": [
    "# arm the scope to be ready for acquistions\n",
    "scope.arm()\n",
    "# the command 'p' includes a signal at the beginning of AES encryption that is sent to the scope to begin acquisition\n",
    "target.simpleserial_write('g', text)\n",
    "ret = scope.capture()\n",
    "wave = scope.get_last_trace()\n",
    "plt.plot(wave)\n",
    "plt.show()"
   ]
  },
  {
   "cell_type": "markdown",
   "metadata": {},
   "source": [
    "#### Plot interesting part of the AES"
   ]
  },
  {
   "cell_type": "code",
   "execution_count": null,
   "metadata": {
    "scrolled": true
   },
   "outputs": [],
   "source": [
    "# plot the whole AES and spot the rounds\n",
    "scope.adc.samples = xxx\n",
    "scope.adc.decimate = xxxx\n",
    "# arm the scope to be ready for acquistions\n",
    "scope.arm()\n",
    "# the command 'p' includes a signal at the beginning of AES encryption that is sent to the scope to begin acquisition\n",
    "target.simpleserial_write('g', text)\n",
    "ret = scope.capture()\n",
    "\n",
    "wave = scope.get_last_trace()\n",
    "plt.plot(wave)\n",
    "plt.show()"
   ]
  },
  {
   "cell_type": "code",
   "execution_count": null,
   "metadata": {},
   "outputs": [],
   "source": [
    "# focus on AES first round\n",
    "scope.adc.samples = xxxx\n",
    "scope.adc.decimate = x\n",
    "# arm the scope to be ready for acquistions\n",
    "scope.arm()\n",
    "# the command 'p' includes a signal at the beginning of AES encryption that is sent to the scope to begin acquisition\n",
    "target.simpleserial_write('g', text)\n",
    "ret = scope.capture()\n",
    "\n",
    "wave = scope.get_last_trace()\n",
    "plt.plot(wave)\n",
    "plt.show()"
   ]
  },
  {
   "cell_type": "markdown",
   "metadata": {},
   "source": [
    "#### Acquistion of traces/plaintexts\n",
    " -  acquire 2500 sets of (trace/plaintext). "
   ]
  },
  {
   "cell_type": "code",
   "execution_count": null,
   "metadata": {
    "scrolled": true
   },
   "outputs": [],
   "source": [
    "def acquire_traces(target, count=10):\n",
    "    '''target :\n",
    "    count: number of curves to save\n",
    "    returns plaintexts, traces\n",
    "    '''    \n",
    "    plaintexts = []\n",
    "    # init to zero an array of 'count' traces each comprising 'scope.adc.samples' samples\n",
    "    traces = np.zeros((count, scope.adc.samples), dtype=np.float)\n",
    "    \n",
    "    for i in tnrange(count, desc = \"Capturing\"):\n",
    "        plaintext = os.urandom(16)\n",
    "            \n",
    "        #scope.stop()\n",
    "    return traces, plaintexts\n",
    "\n",
    "tr,pl = acquire_traces(target, 2500)"
   ]
  },
  {
   "cell_type": "markdown",
   "metadata": {},
   "source": [
    "### Save traces and plaintexts in the AES folder"
   ]
  },
  {
   "cell_type": "code",
   "execution_count": null,
   "metadata": {
    "scrolled": true
   },
   "outputs": [],
   "source": [
    "dir_name = \"./acqu\"\n",
    "np.save(dir_name + '/tracesAES', tr)\n",
    "f = open(dir_name + \"/plaintexts.txt\", 'w')\n",
    "for p in pl:\n",
    "    f.write(str(p) + \"\\n\")\n",
    "f.close()"
   ]
  }
 ],
 "metadata": {
  "kernelspec": {
   "display_name": "Python 3",
   "language": "python",
   "name": "python3"
  },
  "language_info": {
   "codemirror_mode": {
    "name": "ipython",
    "version": 3
   },
   "file_extension": ".py",
   "mimetype": "text/x-python",
   "name": "python",
   "nbconvert_exporter": "python",
   "pygments_lexer": "ipython3",
   "version": "3.7.2"
  }
 },
 "nbformat": 4,
 "nbformat_minor": 2
}
